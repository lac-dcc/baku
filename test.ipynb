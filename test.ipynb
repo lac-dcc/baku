{
 "cells": [
  {
   "cell_type": "code",
   "execution_count": 2,
   "metadata": {},
   "outputs": [],
   "source": [
    "import pandas as pd\n",
    "import numpy as np\n",
    "\n",
    "# Dados observados (extraídos do CSV)\n",
    "observed_raw = [\n",
    "    [10882904, 6129843, 66451, 24228, 1202300],\n",
    "    [2305636, 1208552, 80568, 30008, 217816],\n",
    "    [10606374, 6133812, 75626, 29614, 1202848],\n",
    "    [26843102, 41028947, 443965, 288088, 3781983],\n",
    "    [9672545, 6144339, 82683, 36042, 1204935],\n",
    "    [1, 1, 1, 1, 1]\n",
    "]\n",
    "\n",
    "# Dados esperados (dos prompts de entrada)\n",
    "expected_raw = [\n",
    "    [2237519, 2895118, 75029, 20643, 550369],\n",
    "    [1559281, 1127943, 72850, 21998, 208279],\n",
    "    [2090768, 2258249, 73719, 23000, 429007],\n",
    "    [704682810, 1531595105, 1174159, 175258, 228970929],\n",
    "    [1862042, 1696910, 76545, 29363, 323580],\n",
    "    [1, 1, 1, 1, 1]\n",
    "]\n",
    "\n",
    "# Convertemos para numpy arrays para processar\n",
    "obs = np.array(observed_raw)\n",
    "exp = np.array(expected_raw)\n",
    "\n"
   ]
  },
  {
   "cell_type": "code",
   "execution_count": 3,
   "metadata": {},
   "outputs": [
    {
     "data": {
      "text/plain": [
       "(6, 5)"
      ]
     },
     "execution_count": 3,
     "metadata": {},
     "output_type": "execute_result"
    }
   ],
   "source": [
    "d = obs-exp\n",
    "d.shape"
   ]
  },
  {
   "cell_type": "code",
   "execution_count": 4,
   "metadata": {},
   "outputs": [
    {
     "data": {
      "text/plain": [
       "array([[ 1.17332362e+08,  2.49722697e+08,  1.11923500e+05,\n",
       "        -1.93680000e+04,  3.77973113e+07],\n",
       "       [ 1.09433332e+08,  2.46568581e+08,  1.28219500e+05,\n",
       "        -1.49430000e+04,  3.71549173e+07],\n",
       "       [ 1.17202582e+08,  2.50363535e+08,  1.22408500e+05,\n",
       "        -1.63390000e+04,  3.79192213e+07],\n",
       "       [-5.69152732e+08, -1.24407819e+09, -6.09692500e+05,\n",
       "         8.98770000e+04, -1.88043566e+08],\n",
       "       [ 1.16497480e+08,  2.50935401e+08,  1.26639500e+05,\n",
       "        -1.62740000e+04,  3.80267353e+07],\n",
       "       [ 1.08686976e+08,  2.46487972e+08,  1.20501500e+05,\n",
       "        -2.29530000e+04,  3.71453803e+07]])"
      ]
     },
     "execution_count": 4,
     "metadata": {},
     "output_type": "execute_result"
    }
   ],
   "source": [
    "d.mean(axis=0)\n",
    "d-d.mean(axis=0)\n"
   ]
  },
  {
   "cell_type": "code",
   "execution_count": 7,
   "metadata": {},
   "outputs": [
    {
     "data": {
      "text/plain": [
       "array([[3.86382641, 1.11730334, 0.11432913, 0.17366662, 1.18453438],\n",
       "       [0.4786533 , 0.07146549, 0.10594372, 0.36412401, 0.04578954],\n",
       "       [4.07295597, 1.71618055, 0.0258685 , 0.28756522, 1.80379574],\n",
       "       [0.96190754, 0.97321162, 0.62188681, 0.64379372, 0.98348269],\n",
       "       [4.19459013, 2.62089857, 0.08018812, 0.22746313, 2.72376228],\n",
       "       [0.        , 0.        , 0.        , 0.        , 0.        ]])"
      ]
     },
     "execution_count": 7,
     "metadata": {},
     "output_type": "execute_result"
    }
   ],
   "source": [
    "np.abs(d)/exp"
   ]
  },
  {
   "cell_type": "code",
   "execution_count": null,
   "metadata": {},
   "outputs": [],
   "source": []
  }
 ],
 "metadata": {
  "kernelspec": {
   "display_name": "Python 3",
   "language": "python",
   "name": "python3"
  },
  "language_info": {
   "codemirror_mode": {
    "name": "ipython",
    "version": 3
   },
   "file_extension": ".py",
   "mimetype": "text/x-python",
   "name": "python",
   "nbconvert_exporter": "python",
   "pygments_lexer": "ipython3",
   "version": "3.12.3"
  }
 },
 "nbformat": 4,
 "nbformat_minor": 2
}
