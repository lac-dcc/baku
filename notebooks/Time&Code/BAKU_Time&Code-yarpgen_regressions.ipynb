{
 "cells": [
  {
   "cell_type": "markdown",
   "metadata": {},
   "source": [
    "### Imports"
   ]
  },
  {
   "cell_type": "code",
   "execution_count": 1,
   "metadata": {},
   "outputs": [],
   "source": [
    "\n",
    "import numpy as np #to better use of the arrays\n",
    "\n",
    "import time #measure time\n",
    "\n",
    "import matplotlib.pyplot as plt #plots\n",
    "\n",
    "import pandas as pd #for csv\n",
    "\n",
    "import seaborn as sns\n",
    "\n",
    "import subprocess #for write file...\n",
    "import random\n",
    "import string\n",
    "import os\n",
    "import sys"
   ]
  },
  {
   "cell_type": "markdown",
   "metadata": {},
   "source": [
    "### Generating"
   ]
  },
  {
   "cell_type": "code",
   "execution_count": 2,
   "metadata": {},
   "outputs": [],
   "source": [
    "YARPGEN_PATH = '../../bin/yarpgen.out'\n",
    "SOURCE_FILE = 'driver.c'\n",
    "BINARY_FILE = 'program'\n",
    "OUTPUT_DIR_BASE = '../../data/yarpgen/'\n",
    "opt_flag = '-O2'\n",
    "\n",
    "if not os.path.exists(OUTPUT_DIR_BASE):\n",
    "    os.makedirs(OUTPUT_DIR_BASE)"
   ]
  },
  {
   "cell_type": "markdown",
   "metadata": {},
   "source": [
    "### Pipeline"
   ]
  },
  {
   "cell_type": "code",
   "execution_count": 4,
   "metadata": {},
   "outputs": [],
   "source": [
    "class GenerationPipeline:\n",
    "    def __init__(self, output_dir_base: str):\n",
    "        self.output_dir_base = output_dir_base\n",
    "        self.totalTime = 0\n",
    "        self.failures = 0\n",
    "        self.success = 0\n",
    "        self.regressions = 0\n",
    "        self.first_regression_time = 0\n",
    "        \n",
    "    def yarpgen_program(self, output_dir: str):\n",
    "        if not os.path.exists(output_dir):\n",
    "            os.makedirs(output_dir)\n",
    "            \n",
    "        print(\"[*] Generating program with YARPGen...\")\n",
    "        result = subprocess.run([YARPGEN_PATH, \"--std=c\", f\"--out-dir={output_dir}\"])\n",
    "        if result.returncode != 0:\n",
    "            print(\"[!] YARPGen failed\")\n",
    "            sys.exit(1)\n",
    "            return None\n",
    "        else:\n",
    "            print(\"[*] YARPGen program generated successfully\")\n",
    "            return result.stdout\n",
    "    def compile_program(self, source_dir: str, out_dir: str, out_file: str):\n",
    "        if not os.path.exists(out_dir):\n",
    "            os.makedirs(out_dir)\n",
    "            \n",
    "        opt_flags = ['-O0', '-O1', '-O2', '-O3', '-Os', '-Ofast']\n",
    "        print(\"[*] Compiling the program...\")\n",
    "        for opt_flag in opt_flags:\n",
    "            result = subprocess.run([\"gcc\", opt_flag, f'{source_dir}/driver.c' ,f'{source_dir}/func.c', f'-I {source_dir}' , \"-o\", f'{out_dir}/{out_file}.{opt_flag}.out'])\n",
    "            if result.returncode != 0:\n",
    "                print(\"[!] Compilation failed\")\n",
    "                self.failures += 1\n",
    "                return False\n",
    "        self.success += 1\n",
    "        return True\n",
    "\n",
    "    def folder_generator(self, size=4):\n",
    "        # Geração de nome aleatório para a pasta\n",
    "        chars = string.ascii_uppercase\n",
    "        random_name = ''.join(random.choice(chars) for _ in range(size))\n",
    "\n",
    "        # Verifica se o nome da pasta já existe no diretório local\n",
    "        while os.path.exists(os.path.join(self.output_dir_base, random_name)):\n",
    "            random_name = ''.join(random.choice(chars) for _ in range(size))\n",
    "\n",
    "        # Caminho completo da nova pasta\n",
    "        folder_path = os.path.join(self.output_dir_base, random_name)\n",
    "\n",
    "        # Cria a pasta localmente\n",
    "        os.makedirs(folder_path)\n",
    "\n",
    "        # Retorna o caminho da pasta criada e o nome aleatório\n",
    "        return folder_path, random_name\n",
    "    \n",
    "    def generate(self):\n",
    "        # Inicializa o cronômetro\n",
    "        start_time = time.time()\n",
    "\n",
    "        # Cria uma nova pasta com nome aleatório\n",
    "        folder_path, random_name = self.folder_generator()\n",
    "\n",
    "        # Gera o programa YARPGen\n",
    "        yarpgen_program(folder_path)\n",
    "\n",
    "        # Compila o programa gerado\n",
    "        compiled = self.compile_program(folder_path, folder_path, random_name)\n",
    "\n",
    "        if not compiled:\n",
    "            os.removedirs(folder_path)\n",
    "\n",
    "        # Verifica a regressão TODO!\n",
    "        regression = False\n",
    "\n",
    "        # Termina o cronômetro\n",
    "        end_time = time.time()\n",
    "        timeSpent = end_time - start_time\n",
    "        self.totalTime += timeSpent\n",
    "\n",
    "        # Retorna o caminho da pasta criada e o nome aleatório\n",
    "        return regression, timeSpent, self.totalTime\n",
    "    def print_status(self):\n",
    "        print(f\"Total time: {self.totalTime:.2f}s\")\n",
    "        print(f\"Failures: {self.failures}\")\n",
    "        print(f\"Success: {self.success}\")\n",
    "        print(f\"Regressions: {self.regressions}\")\n",
    "        if self.regressions > 0:\n",
    "            print(f\"First regression time: {self.first_regression_time:.2f}s\")\n"
   ]
  },
  {
   "cell_type": "markdown",
   "metadata": {},
   "source": [
    "### Testing"
   ]
  },
  {
   "cell_type": "code",
   "execution_count": 5,
   "metadata": {},
   "outputs": [
    {
     "name": "stdout",
     "output_type": "stream",
     "text": [
      "[*] Generating program with YARPGen...\n",
      "/*SEED 145524274*/\n",
      "[*] YARPGen program generated successfully\n",
      "[*] Compiling the program...\n"
     ]
    },
    {
     "data": {
      "text/plain": [
       "(False, 0.6425750255584717, 0.6425750255584717)"
      ]
     },
     "execution_count": 5,
     "metadata": {},
     "output_type": "execute_result"
    }
   ],
   "source": [
    "pipeline = GenerationPipeline(OUTPUT_DIR_BASE)\n",
    "pipeline.generate()"
   ]
  },
  {
   "cell_type": "code",
   "execution_count": 6,
   "metadata": {},
   "outputs": [
    {
     "name": "stdout",
     "output_type": "stream",
     "text": [
      "[*] Generating program with YARPGen...\n",
      "/*SEED 832555178*/\n",
      "[*] YARPGen program generated successfully\n",
      "[*] Compiling the program...\n",
      "[*] Generating program with YARPGen...\n",
      "/*SEED 2267099356*/\n",
      "[*] YARPGen program generated successfully\n",
      "[*] Compiling the program...\n"
     ]
    },
    {
     "name": "stderr",
     "output_type": "stream",
     "text": [
      "/tmp/ccI3FupP.o: na função \"init\":\n",
      "driver.c:(.text+0x468f): realocação truncada para caber: R_X86_64_PC32 contra símbolo não definido \"arr_22\" na seção .bss em /tmp/ccI3FupP.o\n",
      "driver.c:(.text+0x4803): realocação truncada para caber: R_X86_64_PC32 contra símbolo não definido \"arr_25\" na seção .bss em /tmp/ccI3FupP.o\n",
      "driver.c:(.text+0x4984): realocação truncada para caber: R_X86_64_PC32 contra símbolo não definido \"arr_26\" na seção .bss em /tmp/ccI3FupP.o\n",
      "driver.c:(.text+0x4b08): realocação truncada para caber: R_X86_64_PC32 contra símbolo não definido \"arr_27\" na seção .bss em /tmp/ccI3FupP.o\n",
      "driver.c:(.text+0x4c31): realocação truncada para caber: R_X86_64_PC32 contra símbolo não definido \"arr_28\" na seção .bss em /tmp/ccI3FupP.o\n",
      "driver.c:(.text+0x4d50): realocação truncada para caber: R_X86_64_PC32 contra símbolo não definido \"arr_32\" na seção .bss em /tmp/ccI3FupP.o\n",
      "driver.c:(.text+0x4e1e): realocação truncada para caber: R_X86_64_PC32 contra símbolo não definido \"arr_38\" na seção .bss em /tmp/ccI3FupP.o\n",
      "driver.c:(.text+0x4ec2): realocação truncada para caber: R_X86_64_PC32 contra símbolo não definido \"arr_39\" na se��ão .bss em /tmp/ccI3FupP.o\n",
      "driver.c:(.text+0x4ff4): realocação truncada para caber: R_X86_64_PC32 contra símbolo não definido \"arr_50\" na seção .bss em /tmp/ccI3FupP.o\n",
      "driver.c:(.text+0x50fe): realocação truncada para caber: R_X86_64_PC32 contra símbolo não definido \"arr_51\" na seção .bss em /tmp/ccI3FupP.o\n",
      "driver.c:(.text+0x517a): estouro de realocação adiciona omitido da saída\n",
      "collect2: error: ld returned 1 exit status\n"
     ]
    },
    {
     "name": "stdout",
     "output_type": "stream",
     "text": [
      "[!] Compilation failed\n",
      "[*] Generating program with YARPGen...\n",
      "/*SEED 1311734850*/\n",
      "[*] YARPGen program generated successfully\n",
      "[*] Compiling the program...\n",
      "[*] Generating program with YARPGen...\n",
      "/*SEED 1940207081*/\n",
      "[*] YARPGen program generated successfully\n",
      "[*] Compiling the program...\n",
      "[*] Generating program with YARPGen...\n",
      "/*SEED 2227719207*/\n",
      "[*] YARPGen program generated successfully\n",
      "[*] Compiling the program...\n",
      "[*] Generating program with YARPGen...\n",
      "/*SEED 3727320750*/\n",
      "[*] YARPGen program generated successfully\n",
      "[*] Compiling the program...\n",
      "[*] Generating program with YARPGen...\n",
      "/*SEED 139315329*/\n",
      "[*] YARPGen program generated successfully\n",
      "[*] Compiling the program...\n"
     ]
    },
    {
     "name": "stderr",
     "output_type": "stream",
     "text": [
      "/tmp/ccpwgWDT.o: na função \"init\":\n",
      "driver.c:(.text+0x2072): realocação truncada para caber: R_X86_64_PC32 contra símbolo não definido \"arr_58\" na seção .bss em /tmp/ccpwgWDT.o\n",
      "driver.c:(.text+0x20e6): realocação truncada para caber: R_X86_64_PC32 contra símbolo não definido \"arr_59\" na seção .bss em /tmp/ccpwgWDT.o\n",
      "driver.c:(.text+0x2136): realocação truncada para caber: R_X86_64_PC32 contra símbolo não definido \"arr_60\" na seção .bss em /tmp/ccpwgWDT.o\n",
      "driver.c:(.text+0x21f2): realocação truncada para caber: R_X86_64_PC32 contra símbolo não definido \"arr_61\" na seção .bss em /tmp/ccpwgWDT.o\n",
      "driver.c:(.text+0x22fa): realocação truncada para caber: R_X86_64_PC32 contra símbolo não definido \"arr_62\" na seção .bss em /tmp/ccpwgWDT.o\n",
      "driver.c:(.text+0x23b5): realocação truncada para caber: R_X86_64_PC32 contra símbolo não definido \"arr_64\" na seção .bss em /tmp/ccpwgWDT.o\n",
      "driver.c:(.text+0x246f): realocação truncada para caber: R_X86_64_PC32 contra símbolo não definido \"arr_65\" na seção .bss em /tmp/ccpwgWDT.o\n",
      "driver.c:(.text+0x2599): realocação truncada para caber: R_X86_64_PC32 contra símbolo não definido \"arr_66\" na seção .bss em /tmp/ccpwgWDT.o\n",
      "driver.c:(.text+0x26f6): realocação truncada para caber: R_X86_64_PC32 contra símbolo não definido \"arr_67\" na seção .bss em /tmp/ccpwgWDT.o\n",
      "driver.c:(.text+0x2871): realocação truncada para caber: R_X86_64_PC32 contra símbolo não definido \"arr_68\" na seção .bss em /tmp/ccpwgWDT.o\n",
      "driver.c:(.text+0x2959): estouro de realocação adiciona omitido da saída\n",
      "collect2: error: ld returned 1 exit status\n"
     ]
    },
    {
     "name": "stdout",
     "output_type": "stream",
     "text": [
      "[!] Compilation failed\n",
      "[*] Generating program with YARPGen...\n",
      "/*SEED 1644970152*/\n",
      "[*] YARPGen program generated successfully\n",
      "[*] Compiling the program...\n",
      "[*] Generating program with YARPGen...\n",
      "/*SEED 257424414*/\n",
      "[*] YARPGen program generated successfully\n",
      "[*] Compiling the program...\n",
      "[!] Compilation failed\n",
      "[*] Generating program with YARPGen...\n",
      "/*SEED 3516563406*/\n",
      "[*] YARPGen program generated successfully\n",
      "[*] Compiling the program...\n",
      "[!] Compilation failed\n"
     ]
    },
    {
     "name": "stderr",
     "output_type": "stream",
     "text": [
      "/tmp/ccwU1YrO.o: na função \"init\":\n",
      "driver.c:(.text+0x21d2): realocação truncada para caber: R_X86_64_PC32 contra símbolo não definido \"arr_56\" na seção .bss em /tmp/ccwU1YrO.o\n",
      "driver.c:(.text+0x2336): realocação truncada para caber: R_X86_64_PC32 contra símbolo não definido \"arr_62\" na seção .bss em /tmp/ccwU1YrO.o\n",
      "driver.c:(.text+0x2426): realocação truncada para caber: R_X86_64_PC32 contra símbolo não definido \"arr_63\" na seção .bss em /tmp/ccwU1YrO.o\n",
      "driver.c:(.text+0x2556): realocação truncada para caber: R_X86_64_PC32 contra símbolo não definido \"arr_65\" na seção .bss em /tmp/ccwU1YrO.o\n",
      "driver.c:(.text+0x268c): realocação truncada para caber: R_X86_64_PC32 contra símbolo não definido \"arr_66\" na seção .bss em /tmp/ccwU1YrO.o\n",
      "driver.c:(.text+0x27b8): realocação truncada para caber: R_X86_64_PC32 contra símbolo não definido \"arr_67\" na seção .bss em /tmp/ccwU1YrO.o\n",
      "driver.c:(.text+0x289c): realocação truncada para caber: R_X86_64_PC32 contra símbolo não definido \"arr_68\" na seção .bss em /tmp/ccwU1YrO.o\n",
      "driver.c:(.text+0x298a): realocação truncada para caber: R_X86_64_PC32 contra símbolo não definido \"arr_69\" na seção .bss em /tmp/ccwU1YrO.o\n",
      "driver.c:(.text+0x2a3c): realocação truncada para caber: R_X86_64_PC32 contra símbolo não definido \"arr_70\" na seção .bss em /tmp/ccwU1YrO.o\n",
      "driver.c:(.text+0x2aed): realocação truncada para caber: R_X86_64_PC32 contra símbolo não definido \"arr_74\" na seção .bss em /tmp/ccwU1YrO.o\n",
      "driver.c:(.text+0x2b83): estouro de realocação adiciona omitido da saída\n",
      "collect2: error: ld returned 1 exit status\n",
      "/tmp/ccIqtf6O.o: na função \"init\":\n",
      "driver.c:(.text+0x796): realocação truncada para caber: R_X86_64_PC32 contra símbolo não definido \"arr_29\" na seção .bss em /tmp/ccIqtf6O.o\n",
      "driver.c:(.text+0x903): realocação truncada para caber: R_X86_64_PC32 contra símbolo não definido \"arr_15\" na seção .bss em /tmp/ccIqtf6O.o\n",
      "driver.c:(.text+0xa5a): realocação truncada para caber: R_X86_64_PC32 contra símbolo não definido \"arr_22\" na seção .bss em /tmp/ccIqtf6O.o\n",
      "driver.c:(.text+0xaeb): realocação truncada para caber: R_X86_64_PC32 contra símbolo não definido \"arr_23\" na seção .bss em /tmp/ccIqtf6O.o\n",
      "driver.c:(.text+0xb51): realocação truncada para caber: R_X86_64_PC32 contra símbolo não definido \"arr_32\" na seção .bss em /tmp/ccIqtf6O.o\n",
      "driver.c:(.text+0xc10): realocação truncada para caber: R_X86_64_PC32 contra símbolo não definido \"arr_35\" na seção .bss em /tmp/ccIqtf6O.o\n",
      "driver.c:(.text+0xd16): realocação truncada para caber: R_X86_64_PC32 contra símbolo não definido \"arr_36\" na seção .bss em /tmp/ccIqtf6O.o\n",
      "/tmp/ccIqtf6O.o: na função \"checksum\":\n",
      "driver.c:(.text+0x109a): realocação truncada para caber: R_X86_64_PC32 contra símbolo não definido \"arr_15\" na seção .bss em /tmp/ccIqtf6O.o\n",
      "driver.c:(.text+0x11ed): realocação truncada para caber: R_X86_64_PC32 contra símbolo não definido \"arr_22\" na seção .bss em /tmp/ccIqtf6O.o\n",
      "driver.c:(.text+0x1275): realocação truncada para caber: R_X86_64_PC32 contra símbolo não definido \"arr_23\" na seção .bss em /tmp/ccIqtf6O.o\n",
      "driver.c:(.text+0x12d8): estouro de realocação adiciona omitido da saída\n",
      "collect2: error: ld returned 1 exit status\n"
     ]
    }
   ],
   "source": [
    "for _ in range(10):\n",
    "    pipeline.generate()"
   ]
  },
  {
   "cell_type": "code",
   "execution_count": 7,
   "metadata": {},
   "outputs": [
    {
     "name": "stdout",
     "output_type": "stream",
     "text": [
      "Total time: 12.56s\n",
      "Failures: 4\n",
      "Success: 7\n",
      "Regressions: 0\n"
     ]
    }
   ],
   "source": [
    "pipeline.print_status()"
   ]
  }
 ],
 "metadata": {
  "kernelspec": {
   "display_name": "Python 3",
   "language": "python",
   "name": "python3"
  },
  "language_info": {
   "codemirror_mode": {
    "name": "ipython",
    "version": 3
   },
   "file_extension": ".py",
   "mimetype": "text/x-python",
   "name": "python",
   "nbconvert_exporter": "python",
   "pygments_lexer": "ipython3",
   "version": "3.12.3"
  }
 },
 "nbformat": 4,
 "nbformat_minor": 2
}
