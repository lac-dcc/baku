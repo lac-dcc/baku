{
  "cells": [
    {
      "cell_type": "markdown",
      "metadata": {
        "id": "8H3RkJApCE30"
      },
      "source": [
        "# BAKU - Time Measurement and Code Generation\n",
        "![Baku.png](../assets/images/Banner.png)\n",
        "\n",
        "This notebook is designed for testing language models (LLMs). The primary objective is to collect data on the performance of LLMs regarding the time spent on code generation, the percentage of generated code that can be compiled, and determine the asymptotic behavior of time concerning the maximum number of tokens in the networks. The original and functional notebook works in Google colab, this copy is only for version management."
      ]
    },
    {
      "cell_type": "markdown",
      "metadata": {
        "id": "V3zffnbcCm9B"
      },
      "source": [
        "### Imports"
      ]
    },
    {
      "cell_type": "code",
      "execution_count": null,
      "metadata": {
        "id": "ycefXFbF0Grw"
      },
      "outputs": [],
      "source": [
        "from transformers import (\n",
        "    AutoModelForCausalLM,\n",
        "    AutoTokenizer\n",
        ") #the model\n",
        "\n",
        "import torch #for the model\n",
        "import numpy as np #to better use of the arrays\n",
        "import time\n",
        "import matplotlib.pyplot as plt\n",
        "import pandas as pd #for csv\n",
        "import statsmodels.stats.api as sms\n",
        "from google.colab import drive #to import the csv\n",
        "import subprocess\n",
        "import random\n",
        "import string"
      ]
    },
    {
      "cell_type": "code",
      "execution_count": null,
      "metadata": {
        "id": "g1MsX7fEozHk"
      },
      "outputs": [],
      "source": [
        "llvm_path = '/content/drive/MyDrive/Colab_Notebooks/BenchGen/llvm_assembly_characteristics.csv'\n",
        "models_path = '/content/drive/MyDrive/Colab_Notebooks/BenchGen/models_data.csv'\n",
        "\n",
        "drive.mount('/content/drive')\n",
        "llvm_characteristics = pd.read_csv(llvm_path)\n",
        "models_data = pd.read_csv(models_path)"
      ]
    },
    {
      "cell_type": "code",
      "execution_count": null,
      "metadata": {
        "id": "oxKzF3_l0iNK"
      },
      "outputs": [],
      "source": [
        "# model_name = \"codellama/CodeLlama-7b-hf\" #Obs: Run in free plan; Some alucinations (tuning?);\n",
        "model_name = 'deepseek-ai/DeepSeek-Coder-V2-Lite-Base' #Obs: Don't Run in free; Clean code; Faster;\n",
        "# model_name = 'bigcode/starcoder2-7b' #Obs: Lazy; Alucinations; Bigger than llama;\n",
        "# model_name = 'facebook/llvm-compiler-7b'#Need to be test properly\n",
        "\n",
        "tokenizer = AutoTokenizer.from_pretrained(\n",
        "    model_name,\n",
        "    trust_remote_code = True\n",
        ")\n",
        "\n",
        "model = AutoModelForCausalLM.from_pretrained(\n",
        "    model_name,\n",
        "    trust_remote_code = True,\n",
        "    torch_dtype = torch.bfloat16\n",
        ").cuda()\n",
        "\n",
        "input_text = \"write a quick sort algorithm in C\"\n",
        "inputs = tokenizer(input_text, return_tensors=\"pt\").to(model.device)\n",
        "outputs = model.generate(**inputs, max_length=128)\n",
        "print(tokenizer.decode(outputs[0], skip_special_tokens=True))"
      ]
    },
    {
      "cell_type": "markdown",
      "metadata": {
        "id": "yab7r0VpCqcx"
      },
      "source": [
        "### Functions"
      ]
    },
    {
      "cell_type": "code",
      "execution_count": null,
      "metadata": {
        "id": "4YKePHsjNy9P"
      },
      "outputs": [],
      "source": [
        "def get_detailed_gpu_info():\n",
        "    try:\n",
        "        # All the informations about the current GPU\n",
        "        gpu_info = subprocess.check_output(\n",
        "            'nvidia-smi --query-gpu=name,driver_version,memory.total,memory.used,memory.free,utilization.gpu --format=csv,noheader',\n",
        "            shell=True, text=True\n",
        "        )\n",
        "        return gpu_info.strip()\n",
        "    except Exception as e:\n",
        "        print(f\"Erro ao obter informações detalhadas da GPU: {e}\")\n",
        "        return \"Unkown\""
      ]
    },
    {
      "cell_type": "code",
      "execution_count": null,
      "metadata": {
        "id": "ElY4pd_MZepo"
      },
      "outputs": [],
      "source": [
        "def name_generator(model_values,size=4, chars=string.ascii_uppercase + string.digits):\n",
        "  random_name = ''.join(random.choice(chars) for _ in range(size))\n",
        "  while random_name in model_values['code_name'].values:\n",
        "    random_name = ''.join(random.choice(chars) for _ in range(size))\n",
        "  return random_name"
      ]
    },
    {
      "cell_type": "code",
      "execution_count": null,
      "metadata": {
        "id": "1BURKyunOcGg"
      },
      "outputs": [],
      "source": [
        "def update_model_value(dif_minutes,input_text,max_length,output):\n",
        "\n",
        "    model_values_path = '/content/drive/MyDrive/Colab_Notebooks/BenchGen/model_values.csv'\n",
        "    models_values = pd.read_csv(model_values_path)\n",
        "\n",
        "    gpu_details = get_detailed_gpu_info()\n",
        "    gpu_name = gpu_details.split(',')[0]\n",
        "\n",
        "    code_name = name_generator(models_values)\n",
        "\n",
        "    code_path = f'/content/drive/MyDrive/Colab_Notebooks/BenchGen/codes/{code_name}.c'\n",
        "\n",
        "    code_file = open(\"code_path\", \"w\")\n",
        "    code_file.write(output)\n",
        "    code_file.close()\n",
        "\n",
        "    new_row = pd.DataFrame({\n",
        "        'model_name' : [model_name],\n",
        "        'seconds' : [dif_minutes],\n",
        "        'code_name' : [code_name], #random name generator\n",
        "        'max_length' : [max_length],\n",
        "        'gpu_name' : [gpu_name],\n",
        "        'caracteristcs' : [input_text], #I don't know how ...\n",
        "        'accuracy' : [0]\n",
        "\n",
        "    })\n",
        "\n",
        "    models_values = pd.concat([models_data, new_row], ignore_index=True)\n",
        "\n",
        "    models_values.to_csv(models_path, index=False)\n",
        "\n",
        "      # pick time of every single value - OK\n",
        "      # code export (/codes) - Maybe?\n",
        "      # accuracy code copilation - Need python script to compile\n",
        "      # max length - OK\n",
        "      # gpu name - OK\n",
        "      # caracteristcs of the code - No\n"
      ]
    },
    {
      "cell_type": "code",
      "execution_count": null,
      "metadata": {
        "id": "EIVINqmhAbiY"
      },
      "outputs": [],
      "source": [
        "def generate_code(input_text,max_length,model,response=True):\n",
        "  #template prompt (comand,caracteristcs,size,)\n",
        "  template_prompt = f\"Do me a code in c for compilers, with {max_length} tokens, that contains {input_text}. Without coments, please.\"\n",
        "  #What are the desirable caracteristcs? Need to add them to the LLVM code randomizer\n",
        "\n",
        "  input_time = time.time()\n",
        "  inputs = tokenizer(template_prompt, return_tensors=\"pt\").to(model.device)\n",
        "  outputs = model.generate(**inputs, max_length=max_length)\n",
        "  output_time = time.time()\n",
        "  dif_minutes = (output_time - input_time)\n",
        "  decoded_output = tokenizer.decode(outputs[0], skip_special_tokens=True)\n",
        "\n",
        "  if(response):\n",
        "    print(decoded_output)\n",
        "    print(f'Time spend in the code generation: {dif_minutes}')\n",
        "  else:\n",
        "    update_model_value(dif_minutes,max_length,decoded_output)\n",
        "\n",
        "  return dif_minutes,decoded_output"
      ]
    },
    {
      "cell_type": "markdown",
      "metadata": {
        "id": "wOzDdiVZCvh5"
      },
      "source": [
        "### Generation Tests"
      ]
    },
    {
      "cell_type": "code",
      "execution_count": null,
      "metadata": {
        "id": "svlkBymd0kAy"
      },
      "outputs": [],
      "source": [
        "time_response = generate_code(\"1% branch mispredictions\",1024,model,response=False)\n",
        "time_response"
      ]
    },
    {
      "cell_type": "code",
      "execution_count": null,
      "metadata": {
        "id": "dDk-8w2r0lnk"
      },
      "outputs": [],
      "source": [
        "time_response = generate_code(\"20% cache misses\",2048,model)\n",
        "time_response"
      ]
    },
    {
      "cell_type": "markdown",
      "metadata": {
        "id": "TrW2JTudC6WS"
      },
      "source": [
        "### Simulations"
      ]
    },
    {
      "cell_type": "code",
      "execution_count": null,
      "metadata": {
        "id": "5jdNMmbwC9uo"
      },
      "outputs": [],
      "source": [
        "def simulation_model(models_data=models_data,first_max_length=1024,max_lenght_pow=1,sample=12):\n",
        "\n",
        "  current_max_length = first_max_length\n",
        "  time_array = np.array([])\n",
        "\n",
        "  for i in range(max_lenght_pow):\n",
        "\n",
        "    for j in range(sample):\n",
        "      random_string = llvm_characteristics.sample().get('Characteristic').iloc[0]\n",
        "\n",
        "      time_temp,decoded_output = generate_code(random_string,current_max_length,model,response=False)\n",
        "\n",
        "      time_array = np.append(time_array,time_temp)\n",
        "\n",
        "\n",
        "    new_row = pd.DataFrame({\n",
        "        'model' : [model_name],\n",
        "        'mean_seconds': [np.mean(time_array)],\n",
        "        'std_seconds': [np.std(time_array)],\n",
        "        'sample_size': [sample],\n",
        "        'text_length': [current_max_length],\n",
        "        'lower_value': [np.min(time_array)],\n",
        "        'higher_value': [np.max(time_array)]\n",
        "    })\n",
        "\n",
        "    models_data = pd.concat([models_data, new_row], ignore_index=True)\n",
        "\n",
        "    models_data.to_csv(models_path, index=False)\n",
        "\n",
        "    time_array = np.empty(0)\n",
        "\n",
        "    current_max_length *= 2\n",
        "\n",
        "  return models_data"
      ]
    },
    {
      "cell_type": "code",
      "execution_count": null,
      "metadata": {
        "id": "XM-XYvFsjKEu"
      },
      "outputs": [],
      "source": [
        "models_data = simulation_model(models_data,first_max_length=1024,max_lenght_pow=1,sample=10)"
      ]
    },
    {
      "cell_type": "markdown",
      "metadata": {
        "id": "flyLboTDbwCL"
      },
      "source": [
        "### Stats and DataFrame"
      ]
    },
    {
      "cell_type": "code",
      "execution_count": null,
      "metadata": {
        "colab": {
          "base_uri": "https://localhost:8080/",
          "height": 175
        },
        "id": "kFz8Z-I_VvVX",
        "outputId": "94e6544f-0e58-48ec-fe43-7fc6083e08f3"
      },
      "outputs": [
        {
          "data": {
            "application/vnd.google.colaboratory.intrinsic+json": {
              "summary": "{\n  \"name\": \"models_data\",\n  \"rows\": 4,\n  \"fields\": [\n    {\n      \"column\": \"model\",\n      \"properties\": {\n        \"dtype\": \"category\",\n        \"num_unique_values\": 1,\n        \"samples\": [\n          \"codellama/CodeLlama-7b-hf\"\n        ],\n        \"semantic_type\": \"\",\n        \"description\": \"\"\n      }\n    },\n    {\n      \"column\": \"mean_seconds\",\n      \"properties\": {\n        \"dtype\": \"number\",\n        \"std\": 28.06895914244702,\n        \"min\": 7.460465717315674,\n        \"max\": 70.61274592876434,\n        \"num_unique_values\": 4,\n        \"samples\": [\n          15.587704420089722\n        ],\n        \"semantic_type\": \"\",\n        \"description\": \"\"\n      }\n    },\n    {\n      \"column\": \"std_seconds\",\n      \"properties\": {\n        \"dtype\": \"number\",\n        \"std\": 4.255503243751774,\n        \"min\": 0.0643517148911962,\n        \"max\": 8.715630888589288,\n        \"num_unique_values\": 4,\n        \"samples\": [\n          0.0643517148911962\n        ],\n        \"semantic_type\": \"\",\n        \"description\": \"\"\n      }\n    },\n    {\n      \"column\": \"sample_size\",\n      \"properties\": {\n        \"dtype\": \"number\",\n        \"std\": 0,\n        \"min\": 20,\n        \"max\": 20,\n        \"num_unique_values\": 1,\n        \"samples\": [\n          20\n        ],\n        \"semantic_type\": \"\",\n        \"description\": \"\"\n      }\n    },\n    {\n      \"column\": \"text_length\",\n      \"properties\": {\n        \"dtype\": \"number\",\n        \"std\": 396,\n        \"min\": 128,\n        \"max\": 1024,\n        \"num_unique_values\": 4,\n        \"samples\": [\n          256\n        ],\n        \"semantic_type\": \"\",\n        \"description\": \"\"\n      }\n    },\n    {\n      \"column\": \"lower_value\",\n      \"properties\": {\n        \"dtype\": \"number\",\n        \"std\": 12.723797580918353,\n        \"min\": 7.214905023574829,\n        \"max\": 32.623130798339844,\n        \"num_unique_values\": 4,\n        \"samples\": [\n          15.49916958808899\n        ],\n        \"semantic_type\": \"\",\n        \"description\": \"\"\n      }\n    },\n    {\n      \"column\": \"higher_value\",\n      \"properties\": {\n        \"dtype\": \"number\",\n        \"std\": 28.585894039510062,\n        \"min\": 9.054687023162842,\n        \"max\": 72.74476075172424,\n        \"num_unique_values\": 4,\n        \"samples\": [\n          15.717568159103394\n        ],\n        \"semantic_type\": \"\",\n        \"description\": \"\"\n      }\n    }\n  ]\n}",
              "type": "dataframe",
              "variable_name": "models_data"
            },
            "text/html": [
              "\n",
              "  <div id=\"df-8fc1e688-609c-42a9-9c3f-60941a08f6ca\" class=\"colab-df-container\">\n",
              "    <div>\n",
              "<style scoped>\n",
              "    .dataframe tbody tr th:only-of-type {\n",
              "        vertical-align: middle;\n",
              "    }\n",
              "\n",
              "    .dataframe tbody tr th {\n",
              "        vertical-align: top;\n",
              "    }\n",
              "\n",
              "    .dataframe thead th {\n",
              "        text-align: right;\n",
              "    }\n",
              "</style>\n",
              "<table border=\"1\" class=\"dataframe\">\n",
              "  <thead>\n",
              "    <tr style=\"text-align: right;\">\n",
              "      <th></th>\n",
              "      <th>model</th>\n",
              "      <th>mean_seconds</th>\n",
              "      <th>std_seconds</th>\n",
              "      <th>sample_size</th>\n",
              "      <th>text_length</th>\n",
              "      <th>lower_value</th>\n",
              "      <th>higher_value</th>\n",
              "    </tr>\n",
              "  </thead>\n",
              "  <tbody>\n",
              "    <tr>\n",
              "      <th>0</th>\n",
              "      <td>codellama/CodeLlama-7b-hf</td>\n",
              "      <td>7.460466</td>\n",
              "      <td>0.412956</td>\n",
              "      <td>20</td>\n",
              "      <td>128</td>\n",
              "      <td>7.214905</td>\n",
              "      <td>9.054687</td>\n",
              "    </tr>\n",
              "    <tr>\n",
              "      <th>1</th>\n",
              "      <td>codellama/CodeLlama-7b-hf</td>\n",
              "      <td>15.587704</td>\n",
              "      <td>0.064352</td>\n",
              "      <td>20</td>\n",
              "      <td>256</td>\n",
              "      <td>15.499170</td>\n",
              "      <td>15.717568</td>\n",
              "    </tr>\n",
              "    <tr>\n",
              "      <th>2</th>\n",
              "      <td>codellama/CodeLlama-7b-hf</td>\n",
              "      <td>33.195767</td>\n",
              "      <td>0.152024</td>\n",
              "      <td>20</td>\n",
              "      <td>512</td>\n",
              "      <td>32.581870</td>\n",
              "      <td>33.311173</td>\n",
              "    </tr>\n",
              "    <tr>\n",
              "      <th>3</th>\n",
              "      <td>codellama/CodeLlama-7b-hf</td>\n",
              "      <td>70.612746</td>\n",
              "      <td>8.715631</td>\n",
              "      <td>20</td>\n",
              "      <td>1024</td>\n",
              "      <td>32.623131</td>\n",
              "      <td>72.744761</td>\n",
              "    </tr>\n",
              "  </tbody>\n",
              "</table>\n",
              "</div>\n",
              "    <div class=\"colab-df-buttons\">\n",
              "\n",
              "  <div class=\"colab-df-container\">\n",
              "    <button class=\"colab-df-convert\" onclick=\"convertToInteractive('df-8fc1e688-609c-42a9-9c3f-60941a08f6ca')\"\n",
              "            title=\"Convert this dataframe to an interactive table.\"\n",
              "            style=\"display:none;\">\n",
              "\n",
              "  <svg xmlns=\"http://www.w3.org/2000/svg\" height=\"24px\" viewBox=\"0 -960 960 960\">\n",
              "    <path d=\"M120-120v-720h720v720H120Zm60-500h600v-160H180v160Zm220 220h160v-160H400v160Zm0 220h160v-160H400v160ZM180-400h160v-160H180v160Zm440 0h160v-160H620v160ZM180-180h160v-160H180v160Zm440 0h160v-160H620v160Z\"/>\n",
              "  </svg>\n",
              "    </button>\n",
              "\n",
              "  <style>\n",
              "    .colab-df-container {\n",
              "      display:flex;\n",
              "      gap: 12px;\n",
              "    }\n",
              "\n",
              "    .colab-df-convert {\n",
              "      background-color: #E8F0FE;\n",
              "      border: none;\n",
              "      border-radius: 50%;\n",
              "      cursor: pointer;\n",
              "      display: none;\n",
              "      fill: #1967D2;\n",
              "      height: 32px;\n",
              "      padding: 0 0 0 0;\n",
              "      width: 32px;\n",
              "    }\n",
              "\n",
              "    .colab-df-convert:hover {\n",
              "      background-color: #E2EBFA;\n",
              "      box-shadow: 0px 1px 2px rgba(60, 64, 67, 0.3), 0px 1px 3px 1px rgba(60, 64, 67, 0.15);\n",
              "      fill: #174EA6;\n",
              "    }\n",
              "\n",
              "    .colab-df-buttons div {\n",
              "      margin-bottom: 4px;\n",
              "    }\n",
              "\n",
              "    [theme=dark] .colab-df-convert {\n",
              "      background-color: #3B4455;\n",
              "      fill: #D2E3FC;\n",
              "    }\n",
              "\n",
              "    [theme=dark] .colab-df-convert:hover {\n",
              "      background-color: #434B5C;\n",
              "      box-shadow: 0px 1px 3px 1px rgba(0, 0, 0, 0.15);\n",
              "      filter: drop-shadow(0px 1px 2px rgba(0, 0, 0, 0.3));\n",
              "      fill: #FFFFFF;\n",
              "    }\n",
              "  </style>\n",
              "\n",
              "    <script>\n",
              "      const buttonEl =\n",
              "        document.querySelector('#df-8fc1e688-609c-42a9-9c3f-60941a08f6ca button.colab-df-convert');\n",
              "      buttonEl.style.display =\n",
              "        google.colab.kernel.accessAllowed ? 'block' : 'none';\n",
              "\n",
              "      async function convertToInteractive(key) {\n",
              "        const element = document.querySelector('#df-8fc1e688-609c-42a9-9c3f-60941a08f6ca');\n",
              "        const dataTable =\n",
              "          await google.colab.kernel.invokeFunction('convertToInteractive',\n",
              "                                                    [key], {});\n",
              "        if (!dataTable) return;\n",
              "\n",
              "        const docLinkHtml = 'Like what you see? Visit the ' +\n",
              "          '<a target=\"_blank\" href=https://colab.research.google.com/notebooks/data_table.ipynb>data table notebook</a>'\n",
              "          + ' to learn more about interactive tables.';\n",
              "        element.innerHTML = '';\n",
              "        dataTable['output_type'] = 'display_data';\n",
              "        await google.colab.output.renderOutput(dataTable, element);\n",
              "        const docLink = document.createElement('div');\n",
              "        docLink.innerHTML = docLinkHtml;\n",
              "        element.appendChild(docLink);\n",
              "      }\n",
              "    </script>\n",
              "  </div>\n",
              "\n",
              "\n",
              "<div id=\"df-3bb293ed-2083-42d6-8dc5-6b2aa0a97aa7\">\n",
              "  <button class=\"colab-df-quickchart\" onclick=\"quickchart('df-3bb293ed-2083-42d6-8dc5-6b2aa0a97aa7')\"\n",
              "            title=\"Suggest charts\"\n",
              "            style=\"display:none;\">\n",
              "\n",
              "<svg xmlns=\"http://www.w3.org/2000/svg\" height=\"24px\"viewBox=\"0 0 24 24\"\n",
              "     width=\"24px\">\n",
              "    <g>\n",
              "        <path d=\"M19 3H5c-1.1 0-2 .9-2 2v14c0 1.1.9 2 2 2h14c1.1 0 2-.9 2-2V5c0-1.1-.9-2-2-2zM9 17H7v-7h2v7zm4 0h-2V7h2v10zm4 0h-2v-4h2v4z\"/>\n",
              "    </g>\n",
              "</svg>\n",
              "  </button>\n",
              "\n",
              "<style>\n",
              "  .colab-df-quickchart {\n",
              "      --bg-color: #E8F0FE;\n",
              "      --fill-color: #1967D2;\n",
              "      --hover-bg-color: #E2EBFA;\n",
              "      --hover-fill-color: #174EA6;\n",
              "      --disabled-fill-color: #AAA;\n",
              "      --disabled-bg-color: #DDD;\n",
              "  }\n",
              "\n",
              "  [theme=dark] .colab-df-quickchart {\n",
              "      --bg-color: #3B4455;\n",
              "      --fill-color: #D2E3FC;\n",
              "      --hover-bg-color: #434B5C;\n",
              "      --hover-fill-color: #FFFFFF;\n",
              "      --disabled-bg-color: #3B4455;\n",
              "      --disabled-fill-color: #666;\n",
              "  }\n",
              "\n",
              "  .colab-df-quickchart {\n",
              "    background-color: var(--bg-color);\n",
              "    border: none;\n",
              "    border-radius: 50%;\n",
              "    cursor: pointer;\n",
              "    display: none;\n",
              "    fill: var(--fill-color);\n",
              "    height: 32px;\n",
              "    padding: 0;\n",
              "    width: 32px;\n",
              "  }\n",
              "\n",
              "  .colab-df-quickchart:hover {\n",
              "    background-color: var(--hover-bg-color);\n",
              "    box-shadow: 0 1px 2px rgba(60, 64, 67, 0.3), 0 1px 3px 1px rgba(60, 64, 67, 0.15);\n",
              "    fill: var(--button-hover-fill-color);\n",
              "  }\n",
              "\n",
              "  .colab-df-quickchart-complete:disabled,\n",
              "  .colab-df-quickchart-complete:disabled:hover {\n",
              "    background-color: var(--disabled-bg-color);\n",
              "    fill: var(--disabled-fill-color);\n",
              "    box-shadow: none;\n",
              "  }\n",
              "\n",
              "  .colab-df-spinner {\n",
              "    border: 2px solid var(--fill-color);\n",
              "    border-color: transparent;\n",
              "    border-bottom-color: var(--fill-color);\n",
              "    animation:\n",
              "      spin 1s steps(1) infinite;\n",
              "  }\n",
              "\n",
              "  @keyframes spin {\n",
              "    0% {\n",
              "      border-color: transparent;\n",
              "      border-bottom-color: var(--fill-color);\n",
              "      border-left-color: var(--fill-color);\n",
              "    }\n",
              "    20% {\n",
              "      border-color: transparent;\n",
              "      border-left-color: var(--fill-color);\n",
              "      border-top-color: var(--fill-color);\n",
              "    }\n",
              "    30% {\n",
              "      border-color: transparent;\n",
              "      border-left-color: var(--fill-color);\n",
              "      border-top-color: var(--fill-color);\n",
              "      border-right-color: var(--fill-color);\n",
              "    }\n",
              "    40% {\n",
              "      border-color: transparent;\n",
              "      border-right-color: var(--fill-color);\n",
              "      border-top-color: var(--fill-color);\n",
              "    }\n",
              "    60% {\n",
              "      border-color: transparent;\n",
              "      border-right-color: var(--fill-color);\n",
              "    }\n",
              "    80% {\n",
              "      border-color: transparent;\n",
              "      border-right-color: var(--fill-color);\n",
              "      border-bottom-color: var(--fill-color);\n",
              "    }\n",
              "    90% {\n",
              "      border-color: transparent;\n",
              "      border-bottom-color: var(--fill-color);\n",
              "    }\n",
              "  }\n",
              "</style>\n",
              "\n",
              "  <script>\n",
              "    async function quickchart(key) {\n",
              "      const quickchartButtonEl =\n",
              "        document.querySelector('#' + key + ' button');\n",
              "      quickchartButtonEl.disabled = true;  // To prevent multiple clicks.\n",
              "      quickchartButtonEl.classList.add('colab-df-spinner');\n",
              "      try {\n",
              "        const charts = await google.colab.kernel.invokeFunction(\n",
              "            'suggestCharts', [key], {});\n",
              "      } catch (error) {\n",
              "        console.error('Error during call to suggestCharts:', error);\n",
              "      }\n",
              "      quickchartButtonEl.classList.remove('colab-df-spinner');\n",
              "      quickchartButtonEl.classList.add('colab-df-quickchart-complete');\n",
              "    }\n",
              "    (() => {\n",
              "      let quickchartButtonEl =\n",
              "        document.querySelector('#df-3bb293ed-2083-42d6-8dc5-6b2aa0a97aa7 button');\n",
              "      quickchartButtonEl.style.display =\n",
              "        google.colab.kernel.accessAllowed ? 'block' : 'none';\n",
              "    })();\n",
              "  </script>\n",
              "</div>\n",
              "\n",
              "  <div id=\"id_336c1650-27fe-4c21-8b68-685438db9679\">\n",
              "    <style>\n",
              "      .colab-df-generate {\n",
              "        background-color: #E8F0FE;\n",
              "        border: none;\n",
              "        border-radius: 50%;\n",
              "        cursor: pointer;\n",
              "        display: none;\n",
              "        fill: #1967D2;\n",
              "        height: 32px;\n",
              "        padding: 0 0 0 0;\n",
              "        width: 32px;\n",
              "      }\n",
              "\n",
              "      .colab-df-generate:hover {\n",
              "        background-color: #E2EBFA;\n",
              "        box-shadow: 0px 1px 2px rgba(60, 64, 67, 0.3), 0px 1px 3px 1px rgba(60, 64, 67, 0.15);\n",
              "        fill: #174EA6;\n",
              "      }\n",
              "\n",
              "      [theme=dark] .colab-df-generate {\n",
              "        background-color: #3B4455;\n",
              "        fill: #D2E3FC;\n",
              "      }\n",
              "\n",
              "      [theme=dark] .colab-df-generate:hover {\n",
              "        background-color: #434B5C;\n",
              "        box-shadow: 0px 1px 3px 1px rgba(0, 0, 0, 0.15);\n",
              "        filter: drop-shadow(0px 1px 2px rgba(0, 0, 0, 0.3));\n",
              "        fill: #FFFFFF;\n",
              "      }\n",
              "    </style>\n",
              "    <button class=\"colab-df-generate\" onclick=\"generateWithVariable('models_data')\"\n",
              "            title=\"Generate code using this dataframe.\"\n",
              "            style=\"display:none;\">\n",
              "\n",
              "  <svg xmlns=\"http://www.w3.org/2000/svg\" height=\"24px\"viewBox=\"0 0 24 24\"\n",
              "       width=\"24px\">\n",
              "    <path d=\"M7,19H8.4L18.45,9,17,7.55,7,17.6ZM5,21V16.75L18.45,3.32a2,2,0,0,1,2.83,0l1.4,1.43a1.91,1.91,0,0,1,.58,1.4,1.91,1.91,0,0,1-.58,1.4L9.25,21ZM18.45,9,17,7.55Zm-12,3A5.31,5.31,0,0,0,4.9,8.1,5.31,5.31,0,0,0,1,6.5,5.31,5.31,0,0,0,4.9,4.9,5.31,5.31,0,0,0,6.5,1,5.31,5.31,0,0,0,8.1,4.9,5.31,5.31,0,0,0,12,6.5,5.46,5.46,0,0,0,6.5,12Z\"/>\n",
              "  </svg>\n",
              "    </button>\n",
              "    <script>\n",
              "      (() => {\n",
              "      const buttonEl =\n",
              "        document.querySelector('#id_336c1650-27fe-4c21-8b68-685438db9679 button.colab-df-generate');\n",
              "      buttonEl.style.display =\n",
              "        google.colab.kernel.accessAllowed ? 'block' : 'none';\n",
              "\n",
              "      buttonEl.onclick = () => {\n",
              "        google.colab.notebook.generateWithVariable('models_data');\n",
              "      }\n",
              "      })();\n",
              "    </script>\n",
              "  </div>\n",
              "\n",
              "    </div>\n",
              "  </div>\n"
            ],
            "text/plain": [
              "                       model  mean_seconds  std_seconds  sample_size  \\\n",
              "0  codellama/CodeLlama-7b-hf      7.460466     0.412956           20   \n",
              "1  codellama/CodeLlama-7b-hf     15.587704     0.064352           20   \n",
              "2  codellama/CodeLlama-7b-hf     33.195767     0.152024           20   \n",
              "3  codellama/CodeLlama-7b-hf     70.612746     8.715631           20   \n",
              "\n",
              "   text_length  lower_value  higher_value  \n",
              "0          128     7.214905      9.054687  \n",
              "1          256    15.499170     15.717568  \n",
              "2          512    32.581870     33.311173  \n",
              "3         1024    32.623131     72.744761  "
            ]
          },
          "execution_count": 9,
          "metadata": {},
          "output_type": "execute_result"
        }
      ],
      "source": [
        "models_data"
      ]
    },
    {
      "cell_type": "code",
      "execution_count": null,
      "metadata": {
        "colab": {
          "base_uri": "https://localhost:8080/",
          "height": 450
        },
        "id": "g_gVTXukX_aF",
        "outputId": "78574556-52fa-4bfe-92d9-121d999aa157"
      },
      "outputs": [
        {
          "data": {
            "image/png": "[encoded data removed]",
            "text/plain": [
              "<Figure size 640x480 with 1 Axes>"
            ]
          },
          "metadata": {},
          "output_type": "display_data"
        }
      ],
      "source": [
        "models_data.plot(kind='scatter', x='mean_seconds', y='text_length', s=32, alpha=.8)\n",
        "plt.gca().spines[['top', 'right',]].set_visible(False)"
      ]
    },
    {
      "cell_type": "code",
      "execution_count": null,
      "metadata": {
        "id": "kxV9W2vta8kg"
      },
      "outputs": [],
      "source": []
    }
  ],
  "metadata": {
    "accelerator": "GPU",
    "colab": {
      "gpuType": "A100",
      "machine_shape": "hm",
      "provenance": []
    },
    "kernelspec": {
      "display_name": "Python 3",
      "name": "python3"
    },
    "language_info": {
      "name": "python"
    }
  },
  "nbformat": 4,
  "nbformat_minor": 0
}
